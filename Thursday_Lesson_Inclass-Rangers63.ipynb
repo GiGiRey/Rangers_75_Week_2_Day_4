{
 "cells": [
  {
   "cell_type": "markdown",
   "metadata": {},
   "source": [
    "# Object-Oriented-Programming (OOP)"
   ]
  },
  {
   "cell_type": "markdown",
   "metadata": {},
   "source": [
    "## Tasks Today:\n",
    "\n",
    "   \n",
    "\n",
    "1) <b>Creating a Class (Initializing/Declaring)</b> <br>\n",
    "2) <b>Using a Class (Instantiating)</b> <br>\n",
    " &nbsp;&nbsp;&nbsp;&nbsp; a) Creating One Instance <br>\n",
    " &nbsp;&nbsp;&nbsp;&nbsp; b) Creating Multiple Instances <br>\n",
    " &nbsp;&nbsp;&nbsp;&nbsp; c) In-Class Exercise #1 - Create a Class 'Car' and instantiate three different makes of cars <br>\n",
    "3) <b>The \\__init\\__() Method</b> <br>\n",
    " &nbsp;&nbsp;&nbsp;&nbsp; a) The 'self' Attribute <br>\n",
    "4) <b>Class Attributes</b> <br>\n",
    " &nbsp;&nbsp;&nbsp;&nbsp; a) Initializing Attributes <br>\n",
    " &nbsp;&nbsp;&nbsp;&nbsp; b) Setting an Attribute Outside of the \\__init\\__() Method <br>\n",
    " &nbsp;&nbsp;&nbsp;&nbsp; c) Setting Defaults for Attributes <br>\n",
    " &nbsp;&nbsp;&nbsp;&nbsp; d) Accessing Class Attributes <br>\n",
    " &nbsp;&nbsp;&nbsp;&nbsp; e) Changing Class Attributes <br>\n",
    " &nbsp;&nbsp;&nbsp;&nbsp; f) In-Class Exercise #2 - Add a color and wheels attribute to your 'Car' class <br>\n",
    "5) <b>Class Methods</b> <br>\n",
    " &nbsp;&nbsp;&nbsp;&nbsp; a) Creating <br>\n",
    " &nbsp;&nbsp;&nbsp;&nbsp; b) Calling <br>\n",
    " &nbsp;&nbsp;&nbsp;&nbsp; c) Modifying an Attribute's Value Through a Method <br>\n",
    " &nbsp;&nbsp;&nbsp;&nbsp; d) Incrementing an Attribute's Value Through a Method <br>\n",
    " &nbsp;&nbsp;&nbsp;&nbsp; e) In-Class Exercise #3 - Add a method that prints the cars color and wheel number, then call them <br>\n",
    "6) <b>Inheritance</b> <br>\n",
    " &nbsp;&nbsp;&nbsp;&nbsp; a) Syntax for Inheriting from a Parent Class <br>\n",
    " &nbsp;&nbsp;&nbsp;&nbsp; b) The \\__init\\__() Method for a Child Class (super()) <br>\n",
    " &nbsp;&nbsp;&nbsp;&nbsp; c) Defining Attributes and Methods for the Child Class <br>\n",
    " &nbsp;&nbsp;&nbsp;&nbsp; d) Method Overriding <br>\n",
    " &nbsp;&nbsp;&nbsp;&nbsp; e) In-Class Exercise #4 - Create a class 'Ford' that inherits from 'Car' class and initialize it as a Blue Ford Explorer with 4 wheels using the super() method <br>\n",
    "7) <b>Classes as Attributes</b> <br>\n",
    "8) <b>Exercises</b> <br>\n",
    " &nbsp;&nbsp;&nbsp;&nbsp; a) Exercise #1 - Turn the shopping cart program from yesterday into an object-oriented program <br>"
   ]
  },
  {
   "cell_type": "markdown",
   "metadata": {},
   "source": [
    "## Creating a Class (Initializing/Declaring)\n",
    "<p>When creating a class, function, or even a variable you are initializing that object. Initializing and Declaring occur at the same time in Python, whereas in lower level languages you have to declare an object before initializing it. This is the first step in the process of using a class.</p>"
   ]
  },
  {
   "cell_type": "code",
   "execution_count": 3,
   "metadata": {},
   "outputs": [],
   "source": [
    "class Car():\n",
    "    wheels = 4\n",
    "    color = 'blue'\n",
    "        "
   ]
  },
  {
   "cell_type": "markdown",
   "metadata": {},
   "source": [
    "## Using a Class (Instantiating)\n",
    "<p>The process of creating a class is called <i>Instantiating</i>. Each time you create a variable of that type of class, it is referred to as an <i>Instance</i> of that class. This is the second step in the process of using a class.</p>"
   ]
  },
  {
   "cell_type": "markdown",
   "metadata": {},
   "source": [
    "##### Creating One Instance"
   ]
  },
  {
   "cell_type": "code",
   "execution_count": 4,
   "metadata": {},
   "outputs": [],
   "source": [
    "ford_Focus = Car()"
   ]
  },
  {
   "cell_type": "markdown",
   "metadata": {},
   "source": [
    "##### Creating Multiple Instances"
   ]
  },
  {
   "cell_type": "code",
   "execution_count": 7,
   "metadata": {},
   "outputs": [
    {
     "name": "stdout",
     "output_type": "stream",
     "text": [
      "blue\n",
      "<class 'str'>\n",
      "<class 'int'>\n"
     ]
    }
   ],
   "source": [
    "honda = Car()\n",
    "chevy = Car()\n",
    "porsche = Car()\n",
    "\n",
    "print(honda.color)\n",
    "# print(chevy.horn)\n",
    "print(type(porsche.color))\n",
    "print(type(porsche.wheels))"
   ]
  },
  {
   "cell_type": "markdown",
   "metadata": {},
   "source": [
    "##### In-Class Exercise #1 - Create a Class 'Car' and Instantiate three different makes of cars"
   ]
  },
  {
   "cell_type": "code",
   "execution_count": 9,
   "metadata": {},
   "outputs": [
    {
     "name": "stdout",
     "output_type": "stream",
     "text": [
      "blue\n"
     ]
    }
   ],
   "source": [
    "class Car():\n",
    "    wheels = 4\n",
    "    color = 'blue'\n",
    "    \n",
    "bmw = Car()\n",
    "\n",
    "print(bmw.color)"
   ]
  },
  {
   "cell_type": "markdown",
   "metadata": {},
   "source": [
    "## The \\__init\\__() Method <br>\n",
    "<p>This method is used in almost every created class, and called only once upon the creation of the class instance. This method will initialize all variables needed for the object.</p>"
   ]
  },
  {
   "cell_type": "code",
   "execution_count": 30,
   "metadata": {},
   "outputs": [
    {
     "name": "stdout",
     "output_type": "stream",
     "text": [
      "8\n",
      "4\n"
     ]
    }
   ],
   "source": [
    "class Car():\n",
    "    \n",
    "    ENGINE = '4.7L'\n",
    "    \n",
    "    def __init__(self, wheels):\n",
    "        self.wheels = wheels\n",
    "    \n",
    "\n",
    "jeep = Car(4)\n",
    "toyota = Car(8)\n",
    "\n",
    "print(toyota.wheels)\n",
    "print(jeep.wheels)\n"
   ]
  },
  {
   "cell_type": "markdown",
   "metadata": {},
   "source": [
    "##### The 'self' Attribute <br>\n",
    "<p>This attribute is required to keep track of specific instance's attributes. Without the self attribute, the program would not know how to reference or keep track of an instance's attributes.</p>"
   ]
  },
  {
   "cell_type": "code",
   "execution_count": null,
   "metadata": {},
   "outputs": [],
   "source": [
    "# see above"
   ]
  },
  {
   "cell_type": "markdown",
   "metadata": {},
   "source": [
    "## Class Attributes <br>\n",
    "<p>While variables are inside of a class, they are referred to as attributes and not variables. When someone says 'attribute' you know they're speaking about a class. Attributes can be initialized through the init method, or outside of it.</p>"
   ]
  },
  {
   "cell_type": "markdown",
   "metadata": {},
   "source": [
    "##### Initializing Attributes"
   ]
  },
  {
   "cell_type": "code",
   "execution_count": 22,
   "metadata": {},
   "outputs": [
    {
     "name": "stdout",
     "output_type": "stream",
     "text": [
      "rectangle\n",
      "architecture\n"
     ]
    }
   ],
   "source": [
    "class Toy():\n",
    "    TOY_TYPE = 'lego'\n",
    "    \n",
    "    def __init__(self, modular, shape, color, collection):\n",
    "        self.modular = modular\n",
    "        self.shape = shape\n",
    "        self.color = color\n",
    "        self.collection = collection\n",
    "    \n",
    "y_wing = Toy(True, 'rectangle', 'silver', 'Star Wars')\n",
    "white_house = Toy(True, 'rectangle', 'white', 'architecture')\n",
    "\n",
    "print(y_wing.shape)\n",
    "print(white_house.collection)"
   ]
  },
  {
   "cell_type": "markdown",
   "metadata": {},
   "source": [
    "##### Accessing Class Attributes"
   ]
  },
  {
   "cell_type": "code",
   "execution_count": null,
   "metadata": {
    "scrolled": true
   },
   "outputs": [],
   "source": [
    "# See Above"
   ]
  },
  {
   "cell_type": "markdown",
   "metadata": {},
   "source": [
    "##### Setting Defaults for Attributes"
   ]
  },
  {
   "cell_type": "code",
   "execution_count": 28,
   "metadata": {},
   "outputs": [
    {
     "name": "stdout",
     "output_type": "stream",
     "text": [
      "8\n",
      "blue\n",
      "red\n"
     ]
    }
   ],
   "source": [
    "class Car():\n",
    "    ENGINE = '4.7'\n",
    "    \n",
    "    def __init__(self, wheels, color = 'blue'):\n",
    "        self.wheels = wheels\n",
    "        self.color = color #Default attribute\n",
    "        \n",
    "jeep = Car(8)\n",
    "honda = Car(4)\n",
    "# mazda = Car(4, 'red')\n",
    "\n",
    "print(jeep.wheels)\n",
    "print(honda.color)\n",
    "# print(mazda.color)"
   ]
  },
  {
   "cell_type": "markdown",
   "metadata": {},
   "source": [
    "##### Changing Class Attributes <br>\n",
    "<p>Keep in mind there are global class attributes and then there are attributes only available to each class instance which won't effect other classes.</p>"
   ]
  },
  {
   "cell_type": "code",
   "execution_count": 29,
   "metadata": {},
   "outputs": [
    {
     "name": "stdout",
     "output_type": "stream",
     "text": [
      "Before changes: blue\n",
      "After Changes: white\n"
     ]
    }
   ],
   "source": [
    "#Changing the default attributes for our Jeep\n",
    "print(f'Before changes: {jeep.color}')\n",
    "jeep.color = 'white'\n",
    "print(f'After Changes: {jeep.color}')"
   ]
  },
  {
   "cell_type": "code",
   "execution_count": null,
   "metadata": {},
   "outputs": [],
   "source": []
  },
  {
   "cell_type": "markdown",
   "metadata": {},
   "source": [
    "##### In-Class Exercise #2 - Add a doors and seats attribute to your 'Car' class then print out two different instances with different doors and seats"
   ]
  },
  {
   "cell_type": "code",
   "execution_count": 32,
   "metadata": {},
   "outputs": [
    {
     "name": "stdout",
     "output_type": "stream",
     "text": [
      "matte silver\n",
      "5\n",
      "2\n",
      "2\n"
     ]
    }
   ],
   "source": [
    "class Car():\n",
    "    \n",
    "    def __init__(self, doors, seats, wheels, color):\n",
    "        self.doors = doors\n",
    "        self.seats = seats\n",
    "        self.wheels = wheels\n",
    "        self.color = color\n",
    "        \n",
    "lexus = Car(5,7,4,'matte silver')\n",
    "audi = Car(2,2,4,'red')\n",
    "\n",
    "\n",
    "print(lexus.color)\n",
    "print(lexus.doors)\n",
    "print(audi.doors)\n",
    "print(audi.seats)"
   ]
  },
  {
   "cell_type": "markdown",
   "metadata": {},
   "source": [
    "## Class Methods <br>\n",
    "<p>While inside of a class, functions are referred to as 'methods'. If you hear someone mention methods, they're speaking about classes. Methods are essentially functions, but only callable on the instances of a class.</p>"
   ]
  },
  {
   "cell_type": "markdown",
   "metadata": {},
   "source": [
    "##### Creating"
   ]
  },
  {
   "cell_type": "code",
   "execution_count": null,
   "metadata": {},
   "outputs": [],
   "source": [
    "#create an instance of the Inventory Clas s\n",
    "\n",
    "ranger_bag = Inventory(10, [])\n",
    "\n",
    "# Create a function to run the shoppingBag(aldi_bag) methods\n",
    "\n",
    "def run():\n",
    "    while True:\n",
    "        response = input(\"What do you want to do? add/show/quit\")\n",
    "        \n",
    "        if response.lower() == \"quit\":\n",
    "                         \n",
    "            ranger_bag.showInventory()\n",
    "            print(\"ONWARD! YOUR QUEST IS YET TO BE COMPLETED!\")\n",
    "            break\n",
    "        elif response.lower() == \"add\":\n",
    "                \n",
    "            ranger_bag.addToInventory()\n",
    "            \n",
    "        elif response.lower() == \"show\":\n",
    "                \n",
    "            ranger_bag.showInventory()\n",
    "            \n",
    "            \n",
    "run()\n"
   ]
  },
  {
   "cell_type": "code",
   "execution_count": 48,
   "metadata": {},
   "outputs": [],
   "source": [
    "class Inventory():\n",
    "    \"\"\"\n",
    "    The Inventory CLass will have capacity and items to place inside\n",
    "    \n",
    "    Attributes for the class:\n",
    "    -capacity: expect an integer\n",
    "    -items: expected to be a list\n",
    "    \"\"\"\n",
    "    \n",
    "    def __init__(self, capacity, items):\n",
    "        self.capacity = capacity\n",
    "        self.items = items\n",
    "        \n",
    "    #method that shows what's in our inventory\n",
    "    \n",
    "    def showInventory(self):\n",
    "        if self.items == []:\n",
    "            print('Your bag is empty, gather some supplies quickly!')\n",
    "            \n",
    "        else:\n",
    "            print('Here are your adventuring supplies!')\n",
    "            for item in self.items:\n",
    "                print(item)\n",
    "\n",
    "    #method that shows inventory capacity\n",
    "    \n",
    "    def showCapacity(self):\n",
    "        print(f'Your carring capacity is {self.capacity}')\n",
    "   \n",
    "    #method adds supplies to our inventory\n",
    "\n",
    "    def addToInventory(self):\n",
    "        supplies = input('What would you like to add?')\n",
    "        self.items.append(supplies)\n",
    "\n",
    "    #change the capacity of our inventory (dynamically)\n",
    "    \n",
    "    def changeInventoryCapacity(self, capacity):\n",
    "        self.capacity = capacity\n",
    "        \n",
    "    # Increase the capacity of our inventory by a default of 10\n",
    "    def increaseCapacity(self, changed_capacity = 10):\n",
    "        if isinstance(self.capacity, str):\n",
    "            print(\"This is not the datatype you're looking for...\")\n",
    "        else:\n",
    "            self.capacity += changed_capacity\n",
    "            \n",
    "mage_bag = Inventory(10,[])"
   ]
  },
  {
   "cell_type": "markdown",
   "metadata": {},
   "source": [
    "##### Calling"
   ]
  },
  {
   "cell_type": "code",
   "execution_count": 39,
   "metadata": {},
   "outputs": [
    {
     "name": "stdout",
     "output_type": "stream",
     "text": [
      "what would you like to do? add/show/quitadd\n",
      "What would you like to add?sword\n",
      "what would you like to do? add/show/quitshow\n",
      "Here are your adventuring supplies!\n",
      "sword\n",
      "sword\n",
      "what would you like to do? add/show/quitquit\n",
      "Here are your adventuring supplies!\n",
      "sword\n",
      "sword\n",
      "ONWARD! YOUR QUEST IS YET TO BE COMPLETED!\n"
     ]
    }
   ],
   "source": [
    "# See Above this bag holds 10 items but is empty\n",
    "\n",
    "#Creat a function to run the Inventory Methods\n",
    "\n",
    "def run():\n",
    "    \n",
    "    while True:\n",
    "        response = input(\"what would you like to do? add/show/quit\")\n",
    "        if response.lower() == 'quit':\n",
    "            mage_bag.showInventory()\n",
    "            print('ONWARD! YOUR QUEST IS YET TO BE COMPLETED!')\n",
    "            break\n",
    "        if response.lower() == 'add':\n",
    "            mage_bag.addToInventory()\n",
    "            \n",
    "        elif response.lower() == 'show':\n",
    "            mage_bag.showInventory()\n",
    "\n",
    "run()"
   ]
  },
  {
   "cell_type": "markdown",
   "metadata": {},
   "source": [
    "##### Modifying an Attribute's Value Through a Method"
   ]
  },
  {
   "cell_type": "code",
   "execution_count": 45,
   "metadata": {},
   "outputs": [
    {
     "name": "stdout",
     "output_type": "stream",
     "text": [
      "Your carring capacity is 10\n",
      "Capacity AFTER the change...\n",
      "Your carring capacity is 15\n"
     ]
    }
   ],
   "source": [
    "mage_bag.showCapacity()\n",
    "print('Capacity AFTER the change...')\n",
    "mage_bag.changeInventoryCapacity(15)\n",
    "mage_bag.showCapacity()"
   ]
  },
  {
   "cell_type": "markdown",
   "metadata": {},
   "source": [
    "##### Incrementing an Attribute's Value Through a Method"
   ]
  },
  {
   "cell_type": "code",
   "execution_count": 49,
   "metadata": {},
   "outputs": [
    {
     "name": "stdout",
     "output_type": "stream",
     "text": [
      "Your carring capacity is 10\n",
      "Capacity AFTER increase...\n",
      "Your carring capacity is 20\n"
     ]
    }
   ],
   "source": [
    "mage_bag.showCapacity()\n",
    "print('Capacity AFTER increase...')\n",
    "mage_bag.increaseCapacity()\n",
    "mage_bag.showCapacity()"
   ]
  },
  {
   "cell_type": "markdown",
   "metadata": {},
   "source": [
    "##### In-Class Exercise #3 - Add a method that takes in three parameters of year, doors and seats and prints out a formatted print statement with make, model, year, seats, and doors"
   ]
  },
  {
   "cell_type": "code",
   "execution_count": 57,
   "metadata": {},
   "outputs": [
    {
     "name": "stdout",
     "output_type": "stream",
     "text": [
      "The chart Summer Sampler was designed by Canterbury Designs in 1987.\n"
     ]
    }
   ],
   "source": [
    "# Create class with 2 paramters inside of the __init__ which are make and model\n",
    "\n",
    "# Inside of the Car class create a method that has 4 parameter in total (self,year,door,seats)\n",
    "\n",
    "# Output: This car is from 2019 and is a Ford Expolorer and has 4 doors and 5 seats\n",
    "\n",
    "\n",
    "class Design():\n",
    "    \n",
    "    def __init__(self, year, name, designers):\n",
    "        self.year = year\n",
    "        self.name = name\n",
    "        self.designers = designers\n",
    "        design.designs.append(self)\n",
    "\n",
    "    def describe(self):\n",
    "        print(f'The chart {sku1.name} was designed by {sku1.designers} in {sku1.year}.')\n",
    "        \n",
    "sku1 = Design(1987, 'Summer Sampler', 'Canterbury Designs')        \n",
    "   \n",
    "for design in "
   ]
  },
  {
   "cell_type": "markdown",
   "metadata": {},
   "source": [
    "## Inheritance <br>\n",
    "<p>You can create a child-parent relationship between two classes by using inheritance. What this allows you to do is have overriding methods, but also inherit traits from the parent class. Think of it as an actual parent and child, the child will inherit the parent's genes, as will the classes in OOP</p>"
   ]
  },
  {
   "cell_type": "markdown",
   "metadata": {},
   "source": [
    "##### Syntax for Inheriting from a Parent Class"
   ]
  },
  {
   "cell_type": "code",
   "execution_count": 15,
   "metadata": {},
   "outputs": [
    {
     "name": "stdout",
     "output_type": "stream",
     "text": [
      "Reeee\n"
     ]
    },
    {
     "ename": "AttributeError",
     "evalue": "'Mutt' object has no attribute 'makesound'",
     "output_type": "error",
     "traceback": [
      "\u001b[1;31m---------------------------------------------------------------------------\u001b[0m",
      "\u001b[1;31mAttributeError\u001b[0m                            Traceback (most recent call last)",
      "\u001b[1;32m<ipython-input-15-ff815f2d8138>\u001b[0m in \u001b[0;36m<module>\u001b[1;34m\u001b[0m\n\u001b[0;32m     39\u001b[0m \u001b[1;33m\u001b[0m\u001b[0m\n\u001b[0;32m     40\u001b[0m \u001b[0mprint\u001b[0m\u001b[1;33m(\u001b[0m\u001b[0mlizard\u001b[0m\u001b[1;33m.\u001b[0m\u001b[0mmakeSound\u001b[0m\u001b[1;33m(\u001b[0m\u001b[1;33m)\u001b[0m\u001b[1;33m)\u001b[0m\u001b[1;33m\u001b[0m\u001b[1;33m\u001b[0m\u001b[0m\n\u001b[1;32m---> 41\u001b[1;33m \u001b[0mbuddy\u001b[0m\u001b[1;33m.\u001b[0m\u001b[0mmakesound\u001b[0m\u001b[1;33m(\u001b[0m\u001b[1;33m)\u001b[0m\u001b[1;33m\u001b[0m\u001b[1;33m\u001b[0m\u001b[0m\n\u001b[0m\u001b[0;32m     42\u001b[0m \u001b[0mprint\u001b[0m\u001b[1;33m(\u001b[0m\u001b[0mbuddy\u001b[0m\u001b[1;33m.\u001b[0m\u001b[0meye_color\u001b[0m\u001b[1;33m)\u001b[0m\u001b[1;33m\u001b[0m\u001b[1;33m\u001b[0m\u001b[0m\n\u001b[0;32m     43\u001b[0m \u001b[0mprint\u001b[0m\u001b[1;33m(\u001b[0m\u001b[0mlassie\u001b[0m\u001b[1;33m.\u001b[0m\u001b[0meye_color\u001b[0m\u001b[1;33m)\u001b[0m\u001b[1;33m\u001b[0m\u001b[1;33m\u001b[0m\u001b[0m\n",
      "\u001b[1;31mAttributeError\u001b[0m: 'Mutt' object has no attribute 'makesound'"
     ]
    }
   ],
   "source": [
    "#Parent class -- Animal\n",
    "class Animal():\n",
    "    ACCELERATION = 9.8\n",
    "    \n",
    "    def __init__(self, name, species, legs=4):\n",
    "        self.name = name\n",
    "        self.species = species\n",
    "        self.legs = legs\n",
    "        \n",
    "    def makeSound(self):\n",
    "        noise = \"Reeee\"\n",
    "        return noise\n",
    "    \n",
    "class Dog(Animal):\n",
    "    SPEED = 15\n",
    "    \n",
    "    def printInfo(self):\n",
    "        print(f\"The dog can run at {self.speed} mph and accelerates at {self.ACCELERATION}.\")\n",
    "        \n",
    "class Mutt(Dog):\n",
    "    COLOR= 'black, brown, and white'\n",
    "    \n",
    "    #Overriding the Animal class __init__ method by using the Dog Class\n",
    "    \n",
    "    def __init__(self, name, species, eye_color, legs=4):\n",
    "        Dog.__init__(self, name, species, legs)\n",
    "        self.eye_color = eye_color\n",
    "            \n",
    "    #Overriding the makeSound method from the Animal class\n",
    "    \n",
    "    def makeSound(self):\n",
    "        noise = \"Bark\"\n",
    "        return noise\n",
    "    \n",
    "    \n",
    "lizard = Animal(\"Sarah\",\"Bearded Dragon\")\n",
    "lassie = Dog('Lassie', 'Collie')\n",
    "buddy = Mutt('Buddy',\"Mut\", 'green')\n",
    "\n",
    "print(lizard.makeSound())\n",
    "buddy.makesound()\n",
    "print(buddy.eye_color)\n",
    "print(lassie.eye_color)"
   ]
  },
  {
   "cell_type": "markdown",
   "metadata": {},
   "source": [
    "##### The \\__init\\__() Method for a Child Class - super()\n",
    "\n"
   ]
  },
  {
   "cell_type": "code",
   "execution_count": 21,
   "metadata": {
    "scrolled": true
   },
   "outputs": [
    {
     "name": "stdout",
     "output_type": "stream",
     "text": [
      "9.8\n",
      "15\n",
      "4\n",
      "4\n",
      "Help on class Mutt in module __main__:\n",
      "\n",
      "class Mutt(Dog)\n",
      " |  Mutt(name, species, eye_color, legs=4)\n",
      " |  \n",
      " |  Method resolution order:\n",
      " |      Mutt\n",
      " |      Dog\n",
      " |      Animal\n",
      " |      builtins.object\n",
      " |  \n",
      " |  Methods defined here:\n",
      " |  \n",
      " |  __init__(self, name, species, eye_color, legs=4)\n",
      " |      Initialize self.  See help(type(self)) for accurate signature.\n",
      " |  \n",
      " |  makeSound(self)\n",
      " |  \n",
      " |  ----------------------------------------------------------------------\n",
      " |  Data and other attributes defined here:\n",
      " |  \n",
      " |  COLOR = 'black, brown, and white'\n",
      " |  \n",
      " |  ----------------------------------------------------------------------\n",
      " |  Methods inherited from Dog:\n",
      " |  \n",
      " |  printInfo(self)\n",
      " |  \n",
      " |  ----------------------------------------------------------------------\n",
      " |  Data and other attributes inherited from Dog:\n",
      " |  \n",
      " |  SPEED = 15\n",
      " |  \n",
      " |  ----------------------------------------------------------------------\n",
      " |  Data descriptors inherited from Animal:\n",
      " |  \n",
      " |  __dict__\n",
      " |      dictionary for instance variables (if defined)\n",
      " |  \n",
      " |  __weakref__\n",
      " |      list of weak references to the object (if defined)\n",
      " |  \n",
      " |  ----------------------------------------------------------------------\n",
      " |  Data and other attributes inherited from Animal:\n",
      " |  \n",
      " |  ACCELERATION = 9.8\n",
      "\n"
     ]
    }
   ],
   "source": [
    "class Mutt(Dog):\n",
    "    COLOR= 'black, brown, and white'\n",
    "    \n",
    "    #Overriding the Animal class __init__ method by using the Dog Class\n",
    "    \n",
    "    def __init__(self, name, species, eye_color, legs=4):\n",
    "        #super grab from all the parents\n",
    "        super().__init__(name, species, legs)\n",
    "        self.eye_color = eye_color\n",
    "            \n",
    "    #Overriding the makeSound method from the Animal class\n",
    "    \n",
    "    def makeSound(self):\n",
    "        noise = \"Bark\"\n",
    "        return noise\n",
    "    \n",
    "fido = Mutt(\"Fido\", 'Mutt', 'blue')\n",
    "jimothy = Mutt(\"jimothy\", \"mutt\", \"hazel\")\n",
    "\n",
    "\n",
    "print(fido.ACCELERATION)\n",
    "print(jimothy.SPEED)\n",
    "print(fido.legs)\n",
    "print(jimothy.legs)\n",
    "\n",
    "help(Mutt)"
   ]
  },
  {
   "cell_type": "markdown",
   "metadata": {},
   "source": [
    "##### Defining Attributes and Methods for the Child Class"
   ]
  },
  {
   "cell_type": "code",
   "execution_count": null,
   "metadata": {},
   "outputs": [],
   "source": [
    "# See Above"
   ]
  },
  {
   "cell_type": "markdown",
   "metadata": {},
   "source": [
    "##### Method Overriding"
   ]
  },
  {
   "cell_type": "code",
   "execution_count": null,
   "metadata": {},
   "outputs": [],
   "source": [
    "# See Above"
   ]
  },
  {
   "cell_type": "markdown",
   "metadata": {},
   "source": [
    "## Classes as Attributes <br>\n",
    "<p>Classes can also be used as attributes within another class. This is useful in situations where you need to keep variables locally stored, instead of globally stored.</p>"
   ]
  },
  {
   "cell_type": "code",
   "execution_count": 26,
   "metadata": {},
   "outputs": [
    {
     "name": "stdout",
     "output_type": "stream",
     "text": [
      "20\n",
      "20\n"
     ]
    },
    {
     "data": {
      "text/plain": [
       "'2015 toyota prius20'"
      ]
     },
     "execution_count": 26,
     "metadata": {},
     "output_type": "execute_result"
    }
   ],
   "source": [
    "class Battery():\n",
    "    VOLTS = 7.8\n",
    "    \n",
    "    def __init__(self, cells):\n",
    "        self.cells=cells\n",
    "        \n",
    "class Car():\n",
    "    def __init__(self, year, make, model, battery):\n",
    "        self.year = year\n",
    "        self.make = make\n",
    "        self.model = model\n",
    "        self.battery = battery\n",
    "        \n",
    "    def printInfo(self):\n",
    "        return f\"{self.year} {self.make} {self.model}{self.battery.cells}\"\n",
    "    \n",
    "battery = Battery(20)\n",
    "\n",
    "prius = Car(2015, \"toyota\", \"prius\", battery)\n",
    "\n",
    "print(battery.cells)\n",
    "print(prius.battery.cells)\n",
    "prius.printInfo()"
   ]
  },
  {
   "cell_type": "markdown",
   "metadata": {},
   "source": [
    "# Exercises"
   ]
  },
  {
   "cell_type": "markdown",
   "metadata": {},
   "source": [
    "### Exercise 1 - Turn the shopping cart program from yesterday into an object-oriented program\n",
    "\n",
    "The comments in the cell below are there as a guide for thinking about the problem. However, if you feel a different way is best for you and your own thought process, please do what feels best for you by all means."
   ]
  },
  {
   "cell_type": "code",
   "execution_count": 114,
   "metadata": {},
   "outputs": [],
   "source": [
    "# Create a class called cart that retains items and has methods to add, remove, and show\n",
    "\n",
    "class Cart():\n",
    "    def __init__(self, items):\n",
    "        self.items = items\n",
    "        \n",
    "    def showCart(self):\n",
    "        if self.items == []:\n",
    "            print('Your shopping cart is empty.')        \n",
    "        else:\n",
    "            print('The following items are currently in your cart:')\n",
    "            for item in self.items:\n",
    "                print(item)\n",
    "\n",
    "    def addItem(self):\n",
    "        product = input('Please enter the item you would like to ADD:')\n",
    "        product = product.lower()\n",
    "        self.items.append(product)      \n",
    "        \n",
    "        print('The following items are currently in your cart:')\n",
    "        for item in self.items:\n",
    "             print(item)\n",
    "\n",
    "    def deleteItem(self):\n",
    "        print('The following items are currently in your cart:')\n",
    "        for item in self.items:\n",
    "            print(item)\n",
    "            \n",
    "        delete_product = input('Which item would you like to delete from your order?')\n",
    "        delete_product = delete_product.lower()\n",
    "            \n",
    "        if delete_product in self.items:\n",
    "            self.items.remove(delete_product)\n",
    "            print('The following items are remaining in your cart:')\n",
    "            for item in self.items:\n",
    "                print(item)\n",
    "        else:\n",
    "            print('That product is not in your shopping cart.')\n",
    "\n",
    "\n",
    "my_cart = Cart([])\n",
    "\n",
    "from IPython.display import clear_output\n",
    "\n",
    "def place_order():\n",
    "    \n",
    "    while True:\n",
    "\n",
    "        next_step = input('Do you want to : Show/Add/Delete or Quit?')\n",
    "        \n",
    "        if next_step.lower() not in ['show','add','delete','quit']: #membership check\n",
    "            next_step = input('Please enter a VALID choice Show/Add/Delete or Quit?')      \n",
    "        \n",
    "        if next_step.lower() == 'quit':\n",
    "            clear_output()\n",
    "            break\n",
    "\n",
    "            ###show my cart logic - displays a message if the cart is empty\n",
    "    \n",
    "        elif next_step.lower() == 'show':\n",
    "            my_cart.showCart()\n",
    "            \n",
    "            ###add items to my cart logic - displays a message showing what has been added to the cart\n",
    "\n",
    "        elif next_step.lower() == 'add':\n",
    "            my_cart.addItem()\n",
    "        \n",
    "        \n",
    "        elif next_step.lower() == 'delete':\n",
    "            my_cart.deleteItem()\n",
    "\n",
    "            \n",
    "place_order()"
   ]
  },
  {
   "cell_type": "markdown",
   "metadata": {},
   "source": [
    "### Exercise 2 - Write a Python class which has two methods get_String and print_String. get_String accept a string from the user and print_String print the string in upper case"
   ]
  },
  {
   "cell_type": "code",
   "execution_count": null,
   "metadata": {},
   "outputs": [
    {
     "name": "stdout",
     "output_type": "stream",
     "text": [
      "Would you like to continue or quit?continue\n",
      "What would you like to print?happy\n",
      "HAPPY\n",
      "Would you like to continue or quit?continue\n",
      "What would you like to print?quilt\n",
      "QUILT\n"
     ]
    }
   ],
   "source": [
    "class MyPy():\n",
    "    \n",
    "    def __init__(self, strings):\n",
    "        self.strings = strings\n",
    "    \n",
    "    def get_string(self):\n",
    "        string=input(\"What would you like to print?\")\n",
    "        self.strings.append(string)\n",
    "            \n",
    "    def print_string(self):\n",
    "        doc=()\n",
    "        for string in self.strings:\n",
    "            print(string.upper())\n",
    "            self.strings.remove(string)\n",
    "\n",
    "my_string=MyPy([])\n",
    "\n",
    "from IPython.display import clear_output\n",
    "\n",
    "def run_MyPy():\n",
    "    \n",
    "    while True:\n",
    "\n",
    "        next_step = input('Would you like to continue or quit?')\n",
    "        \n",
    "        if next_step.lower() not in ['continue','quit',]: #membership check\n",
    "            next_step = input('Please enter a VALID choice continue or quit?') \n",
    "        \n",
    "        if next_step.lower() == 'quit':\n",
    "            clear_output()\n",
    "            break\n",
    "\n",
    "            ###show my cart logic - displays a message if the cart is empty\n",
    "    \n",
    "        else:\n",
    "            my_string.get_string()\n",
    "            my_string.print_string()\n",
    "    \n",
    "run_MyPy()"
   ]
  },
  {
   "cell_type": "code",
   "execution_count": null,
   "metadata": {},
   "outputs": [],
   "source": []
  },
  {
   "cell_type": "code",
   "execution_count": null,
   "metadata": {},
   "outputs": [],
   "source": []
  },
  {
   "cell_type": "code",
   "execution_count": null,
   "metadata": {},
   "outputs": [],
   "source": []
  }
 ],
 "metadata": {
  "kernelspec": {
   "display_name": "Python 3",
   "language": "python",
   "name": "python3"
  },
  "language_info": {
   "codemirror_mode": {
    "name": "ipython",
    "version": 3
   },
   "file_extension": ".py",
   "mimetype": "text/x-python",
   "name": "python",
   "nbconvert_exporter": "python",
   "pygments_lexer": "ipython3",
   "version": "3.8.8"
  }
 },
 "nbformat": 4,
 "nbformat_minor": 2
}
